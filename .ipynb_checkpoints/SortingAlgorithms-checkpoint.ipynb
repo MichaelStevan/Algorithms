{
 "cells": [
  {
   "cell_type": "code",
   "execution_count": 8,
   "metadata": {},
   "outputs": [],
   "source": [
    "import random\n",
    "\n",
    "# sort this array!\n",
    "arr = list(range(21))\n",
    "random.shuffle(arr)"
   ]
  },
  {
   "cell_type": "code",
   "execution_count": 9,
   "metadata": {},
   "outputs": [
    {
     "data": {
      "text/plain": [
       "[0, 20, 1, 18, 12, 4, 8, 17, 14, 19, 5, 9, 3, 7, 16, 11, 2, 6, 13, 10, 15]"
      ]
     },
     "execution_count": 9,
     "metadata": {},
     "output_type": "execute_result"
    }
   ],
   "source": [
    "arr"
   ]
  },
  {
   "cell_type": "code",
   "execution_count": 10,
   "metadata": {},
   "outputs": [
    {
     "data": {
      "text/plain": [
       "[0, 1, 2, 3, 4, 5, 6, 7, 8, 9, 10, 11, 12, 13, 14, 15, 16, 17, 18, 19, 20]"
      ]
     },
     "execution_count": 10,
     "metadata": {},
     "output_type": "execute_result"
    }
   ],
   "source": [
    "def selectionSort(arr):\n",
    "    for i in range(len(arr)):\n",
    "        min_index = i\n",
    "        for j in range(i+1,len(arr)):\n",
    "            if arr[min_index] > arr[j]:\n",
    "                min_index = j\n",
    "        arr[i], arr[min_index] = arr[min_index], arr[i]\n",
    "    return arr\n",
    "\n",
    "\n",
    "selectionSort(arr.copy())\n",
    "                           "
   ]
  },
  {
   "cell_type": "code",
   "execution_count": 11,
   "metadata": {},
   "outputs": [
    {
     "data": {
      "text/plain": [
       "[0, 1, 2, 3, 4, 5, 6, 7, 8, 9, 10, 11, 12, 13, 14, 15, 16, 17, 18, 19, 20]"
      ]
     },
     "execution_count": 11,
     "metadata": {},
     "output_type": "execute_result"
    }
   ],
   "source": [
    "def bubbleSort(arr):\n",
    "    for i in range(len(arr)):\n",
    "        for j in range(len(arr) - i - 1):\n",
    "            if arr[j] >= arr[j+1]:\n",
    "                arr[j], arr[j+1] = arr[j+1], arr[j]\n",
    "    return arr\n",
    "\n",
    "bubbleSort(arr.copy())"
   ]
  },
  {
   "cell_type": "code",
   "execution_count": 13,
   "metadata": {},
   "outputs": [
    {
     "data": {
      "text/plain": [
       "[0, 1, 2, 3, 4, 5, 6, 7, 8, 9, 10, 11, 12, 13, 14, 15, 16, 17, 18, 19, 20]"
      ]
     },
     "execution_count": 13,
     "metadata": {},
     "output_type": "execute_result"
    }
   ],
   "source": [
    "def partition(arr, l, h):\n",
    "    pivot = arr[h]\n",
    "    min_index = l - 1\n",
    "    for i in range(l,h):\n",
    "        if arr[i] < pivot:\n",
    "            min_index+=1 \n",
    "            arr[i], arr[min_index] = arr[min_index], arr[i]\n",
    "    arr[min_index + 1], arr[h] = arr[h], arr[min_index + 1]\n",
    "    return min_index + 1\n",
    "\n",
    "def quickSort(arr, l , h):\n",
    "    if h > l:\n",
    "        pivot = partition(arr, l, h)\n",
    "        \n",
    "        quickSort(arr, pivot + 1, h)\n",
    "        quickSort(arr, l, pivot - 1)\n",
    "    return(arr)\n",
    "\n",
    "quickSort(arr.copy(), 0, len(arr)-1)"
   ]
  },
  {
   "cell_type": "markdown",
   "metadata": {},
   "source": [
    "Some problems that make use of sorting algorithms."
   ]
  },
  {
   "cell_type": "code",
   "execution_count": 48,
   "metadata": {},
   "outputs": [
    {
     "data": {
      "text/plain": [
       "True"
      ]
     },
     "execution_count": 48,
     "metadata": {},
     "output_type": "execute_result"
    }
   ],
   "source": [
    "# Find whether an array is subset of another array. For that \n",
    "# elements must match exactlyin order when both arrays are sorted.\n",
    "\n",
    "arr1 = [11,1,13,21,3,7]\n",
    "arr2 = [11,3,7,1]\n",
    "\n",
    "# Complexity \n",
    "def isSubset(arr2, arr1):\n",
    "    arr1 = quickSort(arr1, 0, len(arr1) - 1)\n",
    "    arr2 = quickSort(arr2, 0, len(arr2) - 1)\n",
    "    \n",
    "    if(len(arr1) < len(arr2)):\n",
    "        return False\n",
    "    \n",
    "    i, j = 0,0\n",
    "    while(i < len(arr1) and j < len(arr2)):\n",
    "        if arr1[i] < arr2[j]:\n",
    "            i+=1\n",
    "        elif arr1[i] == arr2[j]:\n",
    "            i+=1\n",
    "            j+=1\n",
    "        elif arr1[i] > arr2[j]:\n",
    "            break\n",
    "            \n",
    "    return not j < len(arr2)\n",
    "\n",
    "\n",
    "   \n",
    "\n",
    "isSubset(arr2, arr1)"
   ]
  },
  {
   "cell_type": "code",
   "execution_count": null,
   "metadata": {},
   "outputs": [],
   "source": []
  }
 ],
 "metadata": {
  "kernelspec": {
   "display_name": "Python 3",
   "language": "python",
   "name": "python3"
  },
  "language_info": {
   "codemirror_mode": {
    "name": "ipython",
    "version": 3
   },
   "file_extension": ".py",
   "mimetype": "text/x-python",
   "name": "python",
   "nbconvert_exporter": "python",
   "pygments_lexer": "ipython3",
   "version": "3.6.7"
  }
 },
 "nbformat": 4,
 "nbformat_minor": 4
}
